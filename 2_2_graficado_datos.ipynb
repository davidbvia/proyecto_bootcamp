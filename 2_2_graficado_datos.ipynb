{
 "cells": [
  {
   "cell_type": "markdown",
   "metadata": {},
   "source": [
    "# GRAFICADO DE DATOS"
   ]
  },
  {
   "cell_type": "code",
   "execution_count": 1,
   "metadata": {},
   "outputs": [],
   "source": [
    "import numpy as np\n",
    "import pandas as pd\n",
    "import seaborn as sns\n",
    "import matplotlib.pyplot as plt\n",
    "import plotly.express as px"
   ]
  },
  {
   "cell_type": "code",
   "execution_count": 2,
   "metadata": {},
   "outputs": [],
   "source": [
    "# Cargar el dataset\n",
    "\n",
    "df = pd.read_csv(\"../dataset_limpio.csv\", index_col = 0)"
   ]
  },
  {
   "cell_type": "code",
   "execution_count": 3,
   "metadata": {},
   "outputs": [
    {
     "data": {
      "text/html": [
       "<div>\n",
       "<style scoped>\n",
       "    .dataframe tbody tr th:only-of-type {\n",
       "        vertical-align: middle;\n",
       "    }\n",
       "\n",
       "    .dataframe tbody tr th {\n",
       "        vertical-align: top;\n",
       "    }\n",
       "\n",
       "    .dataframe thead th {\n",
       "        text-align: right;\n",
       "    }\n",
       "</style>\n",
       "<table border=\"1\" class=\"dataframe\">\n",
       "  <thead>\n",
       "    <tr style=\"text-align: right;\">\n",
       "      <th></th>\n",
       "      <th>Nombre</th>\n",
       "      <th>Detalles</th>\n",
       "      <th>Precio al contado</th>\n",
       "      <th>Año matriculación</th>\n",
       "      <th>Kilometros</th>\n",
       "      <th>Tipo combustible</th>\n",
       "      <th>Tipo de cambio</th>\n",
       "      <th>Potencia</th>\n",
       "      <th>Puertas</th>\n",
       "      <th>Tipo de vendedor</th>\n",
       "    </tr>\n",
       "  </thead>\n",
       "  <tbody>\n",
       "    <tr>\n",
       "      <th>0</th>\n",
       "      <td>CITROEN C5 Aircross</td>\n",
       "      <td>BlueHDi S&amp;S Shine EAT8 180</td>\n",
       "      <td>19.50</td>\n",
       "      <td>2019</td>\n",
       "      <td>62.473</td>\n",
       "      <td>Diésel</td>\n",
       "      <td>Automática</td>\n",
       "      <td>176</td>\n",
       "      <td>5</td>\n",
       "      <td>Profesional</td>\n",
       "    </tr>\n",
       "    <tr>\n",
       "      <th>1</th>\n",
       "      <td>MERCEDES Clase A</td>\n",
       "      <td>A 250 4Matic 7G-DCT</td>\n",
       "      <td>37.40</td>\n",
       "      <td>2022</td>\n",
       "      <td>9.058</td>\n",
       "      <td>Gasolina</td>\n",
       "      <td>Automática</td>\n",
       "      <td>224</td>\n",
       "      <td>5</td>\n",
       "      <td>Profesional</td>\n",
       "    </tr>\n",
       "    <tr>\n",
       "      <th>2</th>\n",
       "      <td>MINI Countryman</td>\n",
       "      <td>COUNTRYMAN COOPER SD ALL4</td>\n",
       "      <td>12.99</td>\n",
       "      <td>2014</td>\n",
       "      <td>95.100</td>\n",
       "      <td>Diésel</td>\n",
       "      <td>Manual</td>\n",
       "      <td>143</td>\n",
       "      <td>5</td>\n",
       "      <td>Profesional</td>\n",
       "    </tr>\n",
       "    <tr>\n",
       "      <th>3</th>\n",
       "      <td>PEUGEOT 2008</td>\n",
       "      <td>1.2 PureTech S&amp;S GT Line 110</td>\n",
       "      <td>10.99</td>\n",
       "      <td>2016</td>\n",
       "      <td>99.937</td>\n",
       "      <td>Gasolina</td>\n",
       "      <td>Manual</td>\n",
       "      <td>110</td>\n",
       "      <td>5</td>\n",
       "      <td>Profesional</td>\n",
       "    </tr>\n",
       "    <tr>\n",
       "      <th>4</th>\n",
       "      <td>MERCEDES Clase B</td>\n",
       "      <td>B 200 7G-DCT</td>\n",
       "      <td>23.79</td>\n",
       "      <td>2019</td>\n",
       "      <td>34.567</td>\n",
       "      <td>Gasolina</td>\n",
       "      <td>Automática</td>\n",
       "      <td>163</td>\n",
       "      <td>5</td>\n",
       "      <td>Profesional</td>\n",
       "    </tr>\n",
       "    <tr>\n",
       "      <th>...</th>\n",
       "      <td>...</td>\n",
       "      <td>...</td>\n",
       "      <td>...</td>\n",
       "      <td>...</td>\n",
       "      <td>...</td>\n",
       "      <td>...</td>\n",
       "      <td>...</td>\n",
       "      <td>...</td>\n",
       "      <td>...</td>\n",
       "      <td>...</td>\n",
       "    </tr>\n",
       "    <tr>\n",
       "      <th>9995</th>\n",
       "      <td>SEAT León</td>\n",
       "      <td>1.6TDI CR Reference 90</td>\n",
       "      <td>10.49</td>\n",
       "      <td>2016</td>\n",
       "      <td>152.061</td>\n",
       "      <td>Diésel</td>\n",
       "      <td>Manual</td>\n",
       "      <td>90</td>\n",
       "      <td>5</td>\n",
       "      <td>Profesional</td>\n",
       "    </tr>\n",
       "    <tr>\n",
       "      <th>9996</th>\n",
       "      <td>FORD Transit</td>\n",
       "      <td>FT 350 L3 Kombi Ambiente 130</td>\n",
       "      <td>26.90</td>\n",
       "      <td>2019</td>\n",
       "      <td>115.469</td>\n",
       "      <td>Diésel</td>\n",
       "      <td>Manual</td>\n",
       "      <td>130</td>\n",
       "      <td>4</td>\n",
       "      <td>Profesional</td>\n",
       "    </tr>\n",
       "    <tr>\n",
       "      <th>9997</th>\n",
       "      <td>FIAT Punto</td>\n",
       "      <td>1.3Mjt 16v Feel/Class</td>\n",
       "      <td>4.49</td>\n",
       "      <td>2008</td>\n",
       "      <td>149.115</td>\n",
       "      <td>Diésel</td>\n",
       "      <td>Manual</td>\n",
       "      <td>70</td>\n",
       "      <td>5</td>\n",
       "      <td>Profesional</td>\n",
       "    </tr>\n",
       "    <tr>\n",
       "      <th>9998</th>\n",
       "      <td>BMW X1</td>\n",
       "      <td>sDrive 18d</td>\n",
       "      <td>20.49</td>\n",
       "      <td>2019</td>\n",
       "      <td>94.595</td>\n",
       "      <td>Diésel</td>\n",
       "      <td>Manual</td>\n",
       "      <td>150</td>\n",
       "      <td>5</td>\n",
       "      <td>Profesional</td>\n",
       "    </tr>\n",
       "    <tr>\n",
       "      <th>9999</th>\n",
       "      <td>FORD Kuga</td>\n",
       "      <td>1.5 EcoBoost ST-Line FWD 150</td>\n",
       "      <td>22.89</td>\n",
       "      <td>2022</td>\n",
       "      <td>33.183</td>\n",
       "      <td>Gasolina</td>\n",
       "      <td>Manual</td>\n",
       "      <td>150</td>\n",
       "      <td>5</td>\n",
       "      <td>Profesional</td>\n",
       "    </tr>\n",
       "  </tbody>\n",
       "</table>\n",
       "<p>9999 rows × 10 columns</p>\n",
       "</div>"
      ],
      "text/plain": [
       "                   Nombre                       Detalles  Precio al contado  \\\n",
       "0     CITROEN C5 Aircross     BlueHDi S&S Shine EAT8 180              19.50   \n",
       "1        MERCEDES Clase A            A 250 4Matic 7G-DCT              37.40   \n",
       "2         MINI Countryman      COUNTRYMAN COOPER SD ALL4              12.99   \n",
       "3            PEUGEOT 2008   1.2 PureTech S&S GT Line 110              10.99   \n",
       "4        MERCEDES Clase B                   B 200 7G-DCT              23.79   \n",
       "...                   ...                            ...                ...   \n",
       "9995            SEAT León         1.6TDI CR Reference 90              10.49   \n",
       "9996         FORD Transit   FT 350 L3 Kombi Ambiente 130              26.90   \n",
       "9997           FIAT Punto          1.3Mjt 16v Feel/Class               4.49   \n",
       "9998               BMW X1                     sDrive 18d              20.49   \n",
       "9999            FORD Kuga   1.5 EcoBoost ST-Line FWD 150              22.89   \n",
       "\n",
       "      Año matriculación  Kilometros Tipo combustible Tipo de cambio  Potencia  \\\n",
       "0                  2019      62.473           Diésel     Automática       176   \n",
       "1                  2022       9.058         Gasolina     Automática       224   \n",
       "2                  2014      95.100           Diésel         Manual       143   \n",
       "3                  2016      99.937         Gasolina         Manual       110   \n",
       "4                  2019      34.567         Gasolina     Automática       163   \n",
       "...                 ...         ...              ...            ...       ...   \n",
       "9995               2016     152.061           Diésel         Manual        90   \n",
       "9996               2019     115.469           Diésel         Manual       130   \n",
       "9997               2008     149.115           Diésel         Manual        70   \n",
       "9998               2019      94.595           Diésel         Manual       150   \n",
       "9999               2022      33.183         Gasolina         Manual       150   \n",
       "\n",
       "      Puertas Tipo de vendedor  \n",
       "0           5      Profesional  \n",
       "1           5      Profesional  \n",
       "2           5      Profesional  \n",
       "3           5      Profesional  \n",
       "4           5      Profesional  \n",
       "...       ...              ...  \n",
       "9995        5      Profesional  \n",
       "9996        4      Profesional  \n",
       "9997        5      Profesional  \n",
       "9998        5      Profesional  \n",
       "9999        5      Profesional  \n",
       "\n",
       "[9999 rows x 10 columns]"
      ]
     },
     "execution_count": 3,
     "metadata": {},
     "output_type": "execute_result"
    }
   ],
   "source": [
    "df"
   ]
  },
  {
   "cell_type": "code",
   "execution_count": 4,
   "metadata": {},
   "outputs": [],
   "source": [
    "# Cantidad de coches por fabricante\n",
    "\n",
    "import collections\n",
    "\n",
    "# Agrupar fabricantes por nombre y cantidad de vehiculos de cada uno\n",
    "\n",
    "fabricante, recuento = list(), list()\n",
    "\n",
    "fabricantes = [fabricante.append(i.split()[0]) for i in df[\"Nombre\"]]\n",
    "\n",
    "fabricantes_count = collections.defaultdict(int)\n",
    "\n",
    "for i in fabricante:\n",
    "\n",
    "    fabricantes_count[i] += 1\n"
   ]
  },
  {
   "cell_type": "code",
   "execution_count": 5,
   "metadata": {},
   "outputs": [
    {
     "data": {
      "application/vnd.plotly.v1+json": {
       "config": {
        "plotlyServerURL": "https://plot.ly"
       },
       "data": [
        {
         "branchvalues": "total",
         "customdata": [
          [
           "FIAT"
          ],
          [
           "HONDA"
          ],
          [
           "OMODA"
          ],
          [
           "IVECO"
          ],
          [
           "OPEL"
          ],
          [
           "PONTIAC"
          ],
          [
           "SKODA"
          ],
          [
           "MAZDA"
          ],
          [
           "KIA"
          ],
          [
           "SUZUKI"
          ],
          [
           "ALFA"
          ],
          [
           "MASERATI"
          ],
          [
           "TOYOTA"
          ],
          [
           "DS"
          ],
          [
           "SEAT"
          ],
          [
           "CUPRA"
          ],
          [
           "PORSCHE"
          ],
          [
           "DACIA"
          ],
          [
           "SSANGYONG"
          ],
          [
           "ABARTH"
          ],
          [
           "LEXUS"
          ],
          [
           "MG"
          ],
          [
           "RENAULT"
          ],
          [
           "VOLVO"
          ],
          [
           "SERES"
          ],
          [
           "SAAB"
          ],
          [
           "CHEVROLET"
          ],
          [
           "HYUNDAI"
          ],
          [
           "SMART"
          ],
          [
           "CITROEN"
          ],
          [
           "SUBARU"
          ],
          [
           "DFSK"
          ],
          [
           "PEUGEOT"
          ],
          [
           "JAGUAR"
          ],
          [
           "LYNK"
          ],
          [
           "BMW"
          ],
          [
           "TESLA"
          ],
          [
           "VOLKSWAGEN"
          ],
          [
           "LAND"
          ],
          [
           "AUDI"
          ],
          [
           "MERCEDES"
          ],
          [
           "FORD"
          ],
          [
           "JEEP"
          ],
          [
           "NISSAN"
          ],
          [
           "MITSUBISHI"
          ],
          [
           "INFINITI"
          ],
          [
           "MINI"
          ],
          [
           "ABARTH"
          ],
          [
           "ALFA"
          ],
          [
           "AUDI"
          ],
          [
           "BMW"
          ],
          [
           "CHEVROLET"
          ],
          [
           "CITROEN"
          ],
          [
           "CUPRA"
          ],
          [
           "DACIA"
          ],
          [
           "DFSK"
          ],
          [
           "DS"
          ],
          [
           "FIAT"
          ],
          [
           "FORD"
          ],
          [
           "HONDA"
          ],
          [
           "HYUNDAI"
          ],
          [
           "INFINITI"
          ],
          [
           "IVECO"
          ],
          [
           "JAGUAR"
          ],
          [
           "JEEP"
          ],
          [
           "KIA"
          ],
          [
           "LAND"
          ],
          [
           "LEXUS"
          ],
          [
           "LYNK"
          ],
          [
           "MASERATI"
          ],
          [
           "MAZDA"
          ],
          [
           "MERCEDES"
          ],
          [
           "MG"
          ],
          [
           "MINI"
          ],
          [
           "MITSUBISHI"
          ],
          [
           "NISSAN"
          ],
          [
           "OMODA"
          ],
          [
           "OPEL"
          ],
          [
           "PEUGEOT"
          ],
          [
           "PONTIAC"
          ],
          [
           "PORSCHE"
          ],
          [
           "RENAULT"
          ],
          [
           "SAAB"
          ],
          [
           "SEAT"
          ],
          [
           "SERES"
          ],
          [
           "SKODA"
          ],
          [
           "SMART"
          ],
          [
           "SSANGYONG"
          ],
          [
           "SUBARU"
          ],
          [
           "SUZUKI"
          ],
          [
           "TESLA"
          ],
          [
           "TOYOTA"
          ],
          [
           "VOLKSWAGEN"
          ],
          [
           "VOLVO"
          ]
         ],
         "domain": {
          "x": [
           0,
           1
          ],
          "y": [
           0,
           1
          ]
         },
         "hovertemplate": "<b>%{hovertext}</b><br><br>labels=%{label}<br>Recuento=%{value}<br>parent=%{parent}<br>id=%{id}<br>Fabricante=%{customdata[0]}<extra></extra>",
         "hovertext": [
          "FIAT",
          "HONDA",
          "OMODA",
          "IVECO",
          "OPEL",
          "PONTIAC",
          "SKODA",
          "MAZDA",
          "KIA",
          "SUZUKI",
          "ALFA",
          "MASERATI",
          "TOYOTA",
          "DS",
          "SEAT",
          "CUPRA",
          "PORSCHE",
          "DACIA",
          "SSANGYONG",
          "ABARTH",
          "LEXUS",
          "MG",
          "RENAULT",
          "VOLVO",
          "SERES",
          "SAAB",
          "CHEVROLET",
          "HYUNDAI",
          "SMART",
          "CITROEN",
          "SUBARU",
          "DFSK",
          "PEUGEOT",
          "JAGUAR",
          "LYNK",
          "BMW",
          "TESLA",
          "VOLKSWAGEN",
          "LAND",
          "AUDI",
          "MERCEDES",
          "FORD",
          "JEEP",
          "NISSAN",
          "MITSUBISHI",
          "INFINITI",
          "MINI",
          "ABARTH",
          "ALFA",
          "AUDI",
          "BMW",
          "CHEVROLET",
          "CITROEN",
          "CUPRA",
          "DACIA",
          "DFSK",
          "DS",
          "FIAT",
          "FORD",
          "HONDA",
          "HYUNDAI",
          "INFINITI",
          "IVECO",
          "JAGUAR",
          "JEEP",
          "KIA",
          "LAND",
          "LEXUS",
          "LYNK",
          "MASERATI",
          "MAZDA",
          "MERCEDES",
          "MG",
          "MINI",
          "MITSUBISHI",
          "NISSAN",
          "OMODA",
          "OPEL",
          "PEUGEOT",
          "PONTIAC",
          "PORSCHE",
          "RENAULT",
          "SAAB",
          "SEAT",
          "SERES",
          "SKODA",
          "SMART",
          "SSANGYONG",
          "SUBARU",
          "SUZUKI",
          "TESLA",
          "TOYOTA",
          "VOLKSWAGEN",
          "VOLVO"
         ],
         "ids": [
          "FIAT/305",
          "HONDA/74",
          "OMODA/3",
          "IVECO/5",
          "OPEL/660",
          "PONTIAC/1",
          "SKODA/128",
          "MAZDA/127",
          "KIA/447",
          "SUZUKI/24",
          "ALFA/33",
          "MASERATI/3",
          "TOYOTA/360",
          "DS/105",
          "SEAT/578",
          "CUPRA/158",
          "PORSCHE/36",
          "DACIA/108",
          "SSANGYONG/18",
          "ABARTH/17",
          "LEXUS/94",
          "MG/95",
          "RENAULT/605",
          "VOLVO/151",
          "SERES/1",
          "SAAB/3",
          "CHEVROLET/3",
          "HYUNDAI/239",
          "SMART/13",
          "CITROEN/934",
          "SUBARU/12",
          "DFSK/3",
          "PEUGEOT/1220",
          "JAGUAR/54",
          "LYNK/17",
          "BMW/380",
          "TESLA/11",
          "VOLKSWAGEN/664",
          "LAND/139",
          "AUDI/365",
          "MERCEDES/498",
          "FORD/410",
          "JEEP/151",
          "NISSAN/620",
          "MITSUBISHI/26",
          "INFINITI/10",
          "MINI/91",
          "ABARTH",
          "ALFA",
          "AUDI",
          "BMW",
          "CHEVROLET",
          "CITROEN",
          "CUPRA",
          "DACIA",
          "DFSK",
          "DS",
          "FIAT",
          "FORD",
          "HONDA",
          "HYUNDAI",
          "INFINITI",
          "IVECO",
          "JAGUAR",
          "JEEP",
          "KIA",
          "LAND",
          "LEXUS",
          "LYNK",
          "MASERATI",
          "MAZDA",
          "MERCEDES",
          "MG",
          "MINI",
          "MITSUBISHI",
          "NISSAN",
          "OMODA",
          "OPEL",
          "PEUGEOT",
          "PONTIAC",
          "PORSCHE",
          "RENAULT",
          "SAAB",
          "SEAT",
          "SERES",
          "SKODA",
          "SMART",
          "SSANGYONG",
          "SUBARU",
          "SUZUKI",
          "TESLA",
          "TOYOTA",
          "VOLKSWAGEN",
          "VOLVO"
         ],
         "labels": [
          "305",
          "74",
          "3",
          "5",
          "660",
          "1",
          "128",
          "127",
          "447",
          "24",
          "33",
          "3",
          "360",
          "105",
          "578",
          "158",
          "36",
          "108",
          "18",
          "17",
          "94",
          "95",
          "605",
          "151",
          "1",
          "3",
          "3",
          "239",
          "13",
          "934",
          "12",
          "3",
          "1220",
          "54",
          "17",
          "380",
          "11",
          "664",
          "139",
          "365",
          "498",
          "410",
          "151",
          "620",
          "26",
          "10",
          "91",
          "ABARTH",
          "ALFA",
          "AUDI",
          "BMW",
          "CHEVROLET",
          "CITROEN",
          "CUPRA",
          "DACIA",
          "DFSK",
          "DS",
          "FIAT",
          "FORD",
          "HONDA",
          "HYUNDAI",
          "INFINITI",
          "IVECO",
          "JAGUAR",
          "JEEP",
          "KIA",
          "LAND",
          "LEXUS",
          "LYNK",
          "MASERATI",
          "MAZDA",
          "MERCEDES",
          "MG",
          "MINI",
          "MITSUBISHI",
          "NISSAN",
          "OMODA",
          "OPEL",
          "PEUGEOT",
          "PONTIAC",
          "PORSCHE",
          "RENAULT",
          "SAAB",
          "SEAT",
          "SERES",
          "SKODA",
          "SMART",
          "SSANGYONG",
          "SUBARU",
          "SUZUKI",
          "TESLA",
          "TOYOTA",
          "VOLKSWAGEN",
          "VOLVO"
         ],
         "marker": {
          "colors": [
           "#636efa",
           "#EF553B",
           "#00cc96",
           "#ab63fa",
           "#FFA15A",
           "#19d3f3",
           "#FF6692",
           "#B6E880",
           "#FF97FF",
           "#FECB52",
           "#636efa",
           "#EF553B",
           "#00cc96",
           "#ab63fa",
           "#FFA15A",
           "#19d3f3",
           "#FF6692",
           "#B6E880",
           "#FF97FF",
           "#FECB52",
           "#636efa",
           "#EF553B",
           "#00cc96",
           "#ab63fa",
           "#FFA15A",
           "#19d3f3",
           "#FF6692",
           "#B6E880",
           "#FF97FF",
           "#FECB52",
           "#636efa",
           "#EF553B",
           "#00cc96",
           "#ab63fa",
           "#FFA15A",
           "#19d3f3",
           "#FF6692",
           "#B6E880",
           "#FF97FF",
           "#FECB52",
           "#636efa",
           "#EF553B",
           "#00cc96",
           "#ab63fa",
           "#FFA15A",
           "#19d3f3",
           "#FF6692",
           "#FECB52",
           "#636efa",
           "#FECB52",
           "#19d3f3",
           "#FF6692",
           "#FECB52",
           "#19d3f3",
           "#B6E880",
           "#EF553B",
           "#ab63fa",
           "#636efa",
           "#EF553B",
           "#EF553B",
           "#B6E880",
           "#19d3f3",
           "#ab63fa",
           "#ab63fa",
           "#00cc96",
           "#FF97FF",
           "#FF97FF",
           "#636efa",
           "#FFA15A",
           "#EF553B",
           "#B6E880",
           "#636efa",
           "#EF553B",
           "#FF6692",
           "#FFA15A",
           "#ab63fa",
           "#00cc96",
           "#FFA15A",
           "#00cc96",
           "#19d3f3",
           "#FF6692",
           "#00cc96",
           "#19d3f3",
           "#FFA15A",
           "#FFA15A",
           "#FF6692",
           "#FF97FF",
           "#FF97FF",
           "#636efa",
           "#FECB52",
           "#FF6692",
           "#00cc96",
           "#B6E880",
           "#ab63fa"
          ]
         },
         "name": "",
         "parents": [
          "FIAT",
          "HONDA",
          "OMODA",
          "IVECO",
          "OPEL",
          "PONTIAC",
          "SKODA",
          "MAZDA",
          "KIA",
          "SUZUKI",
          "ALFA",
          "MASERATI",
          "TOYOTA",
          "DS",
          "SEAT",
          "CUPRA",
          "PORSCHE",
          "DACIA",
          "SSANGYONG",
          "ABARTH",
          "LEXUS",
          "MG",
          "RENAULT",
          "VOLVO",
          "SERES",
          "SAAB",
          "CHEVROLET",
          "HYUNDAI",
          "SMART",
          "CITROEN",
          "SUBARU",
          "DFSK",
          "PEUGEOT",
          "JAGUAR",
          "LYNK",
          "BMW",
          "TESLA",
          "VOLKSWAGEN",
          "LAND",
          "AUDI",
          "MERCEDES",
          "FORD",
          "JEEP",
          "NISSAN",
          "MITSUBISHI",
          "INFINITI",
          "MINI",
          "",
          "",
          "",
          "",
          "",
          "",
          "",
          "",
          "",
          "",
          "",
          "",
          "",
          "",
          "",
          "",
          "",
          "",
          "",
          "",
          "",
          "",
          "",
          "",
          "",
          "",
          "",
          "",
          "",
          "",
          "",
          "",
          "",
          "",
          "",
          "",
          "",
          "",
          "",
          "",
          "",
          "",
          "",
          "",
          "",
          "",
          ""
         ],
         "textinfo": "label+percent parent",
         "type": "sunburst",
         "values": [
          305,
          74,
          3,
          5,
          660,
          1,
          128,
          127,
          447,
          24,
          33,
          3,
          360,
          105,
          578,
          158,
          36,
          108,
          18,
          17,
          94,
          95,
          605,
          151,
          1,
          3,
          3,
          239,
          13,
          934,
          12,
          3,
          1220,
          54,
          17,
          380,
          11,
          664,
          139,
          365,
          498,
          410,
          151,
          620,
          26,
          10,
          91,
          17,
          33,
          365,
          380,
          3,
          934,
          158,
          108,
          3,
          105,
          305,
          410,
          74,
          239,
          10,
          5,
          54,
          151,
          447,
          139,
          94,
          17,
          3,
          127,
          498,
          95,
          91,
          26,
          620,
          3,
          660,
          1220,
          1,
          36,
          605,
          3,
          578,
          1,
          128,
          13,
          18,
          12,
          24,
          11,
          360,
          664,
          151
         ]
        }
       ],
       "layout": {
        "legend": {
         "tracegroupgap": 0
        },
        "margin": {
         "t": 60
        },
        "template": {
         "data": {
          "bar": [
           {
            "error_x": {
             "color": "#2a3f5f"
            },
            "error_y": {
             "color": "#2a3f5f"
            },
            "marker": {
             "line": {
              "color": "#E5ECF6",
              "width": 0.5
             },
             "pattern": {
              "fillmode": "overlay",
              "size": 10,
              "solidity": 0.2
             }
            },
            "type": "bar"
           }
          ],
          "barpolar": [
           {
            "marker": {
             "line": {
              "color": "#E5ECF6",
              "width": 0.5
             },
             "pattern": {
              "fillmode": "overlay",
              "size": 10,
              "solidity": 0.2
             }
            },
            "type": "barpolar"
           }
          ],
          "carpet": [
           {
            "aaxis": {
             "endlinecolor": "#2a3f5f",
             "gridcolor": "white",
             "linecolor": "white",
             "minorgridcolor": "white",
             "startlinecolor": "#2a3f5f"
            },
            "baxis": {
             "endlinecolor": "#2a3f5f",
             "gridcolor": "white",
             "linecolor": "white",
             "minorgridcolor": "white",
             "startlinecolor": "#2a3f5f"
            },
            "type": "carpet"
           }
          ],
          "choropleth": [
           {
            "colorbar": {
             "outlinewidth": 0,
             "ticks": ""
            },
            "type": "choropleth"
           }
          ],
          "contour": [
           {
            "colorbar": {
             "outlinewidth": 0,
             "ticks": ""
            },
            "colorscale": [
             [
              0,
              "#0d0887"
             ],
             [
              0.1111111111111111,
              "#46039f"
             ],
             [
              0.2222222222222222,
              "#7201a8"
             ],
             [
              0.3333333333333333,
              "#9c179e"
             ],
             [
              0.4444444444444444,
              "#bd3786"
             ],
             [
              0.5555555555555556,
              "#d8576b"
             ],
             [
              0.6666666666666666,
              "#ed7953"
             ],
             [
              0.7777777777777778,
              "#fb9f3a"
             ],
             [
              0.8888888888888888,
              "#fdca26"
             ],
             [
              1,
              "#f0f921"
             ]
            ],
            "type": "contour"
           }
          ],
          "contourcarpet": [
           {
            "colorbar": {
             "outlinewidth": 0,
             "ticks": ""
            },
            "type": "contourcarpet"
           }
          ],
          "heatmap": [
           {
            "colorbar": {
             "outlinewidth": 0,
             "ticks": ""
            },
            "colorscale": [
             [
              0,
              "#0d0887"
             ],
             [
              0.1111111111111111,
              "#46039f"
             ],
             [
              0.2222222222222222,
              "#7201a8"
             ],
             [
              0.3333333333333333,
              "#9c179e"
             ],
             [
              0.4444444444444444,
              "#bd3786"
             ],
             [
              0.5555555555555556,
              "#d8576b"
             ],
             [
              0.6666666666666666,
              "#ed7953"
             ],
             [
              0.7777777777777778,
              "#fb9f3a"
             ],
             [
              0.8888888888888888,
              "#fdca26"
             ],
             [
              1,
              "#f0f921"
             ]
            ],
            "type": "heatmap"
           }
          ],
          "heatmapgl": [
           {
            "colorbar": {
             "outlinewidth": 0,
             "ticks": ""
            },
            "colorscale": [
             [
              0,
              "#0d0887"
             ],
             [
              0.1111111111111111,
              "#46039f"
             ],
             [
              0.2222222222222222,
              "#7201a8"
             ],
             [
              0.3333333333333333,
              "#9c179e"
             ],
             [
              0.4444444444444444,
              "#bd3786"
             ],
             [
              0.5555555555555556,
              "#d8576b"
             ],
             [
              0.6666666666666666,
              "#ed7953"
             ],
             [
              0.7777777777777778,
              "#fb9f3a"
             ],
             [
              0.8888888888888888,
              "#fdca26"
             ],
             [
              1,
              "#f0f921"
             ]
            ],
            "type": "heatmapgl"
           }
          ],
          "histogram": [
           {
            "marker": {
             "pattern": {
              "fillmode": "overlay",
              "size": 10,
              "solidity": 0.2
             }
            },
            "type": "histogram"
           }
          ],
          "histogram2d": [
           {
            "colorbar": {
             "outlinewidth": 0,
             "ticks": ""
            },
            "colorscale": [
             [
              0,
              "#0d0887"
             ],
             [
              0.1111111111111111,
              "#46039f"
             ],
             [
              0.2222222222222222,
              "#7201a8"
             ],
             [
              0.3333333333333333,
              "#9c179e"
             ],
             [
              0.4444444444444444,
              "#bd3786"
             ],
             [
              0.5555555555555556,
              "#d8576b"
             ],
             [
              0.6666666666666666,
              "#ed7953"
             ],
             [
              0.7777777777777778,
              "#fb9f3a"
             ],
             [
              0.8888888888888888,
              "#fdca26"
             ],
             [
              1,
              "#f0f921"
             ]
            ],
            "type": "histogram2d"
           }
          ],
          "histogram2dcontour": [
           {
            "colorbar": {
             "outlinewidth": 0,
             "ticks": ""
            },
            "colorscale": [
             [
              0,
              "#0d0887"
             ],
             [
              0.1111111111111111,
              "#46039f"
             ],
             [
              0.2222222222222222,
              "#7201a8"
             ],
             [
              0.3333333333333333,
              "#9c179e"
             ],
             [
              0.4444444444444444,
              "#bd3786"
             ],
             [
              0.5555555555555556,
              "#d8576b"
             ],
             [
              0.6666666666666666,
              "#ed7953"
             ],
             [
              0.7777777777777778,
              "#fb9f3a"
             ],
             [
              0.8888888888888888,
              "#fdca26"
             ],
             [
              1,
              "#f0f921"
             ]
            ],
            "type": "histogram2dcontour"
           }
          ],
          "mesh3d": [
           {
            "colorbar": {
             "outlinewidth": 0,
             "ticks": ""
            },
            "type": "mesh3d"
           }
          ],
          "parcoords": [
           {
            "line": {
             "colorbar": {
              "outlinewidth": 0,
              "ticks": ""
             }
            },
            "type": "parcoords"
           }
          ],
          "pie": [
           {
            "automargin": true,
            "type": "pie"
           }
          ],
          "scatter": [
           {
            "fillpattern": {
             "fillmode": "overlay",
             "size": 10,
             "solidity": 0.2
            },
            "type": "scatter"
           }
          ],
          "scatter3d": [
           {
            "line": {
             "colorbar": {
              "outlinewidth": 0,
              "ticks": ""
             }
            },
            "marker": {
             "colorbar": {
              "outlinewidth": 0,
              "ticks": ""
             }
            },
            "type": "scatter3d"
           }
          ],
          "scattercarpet": [
           {
            "marker": {
             "colorbar": {
              "outlinewidth": 0,
              "ticks": ""
             }
            },
            "type": "scattercarpet"
           }
          ],
          "scattergeo": [
           {
            "marker": {
             "colorbar": {
              "outlinewidth": 0,
              "ticks": ""
             }
            },
            "type": "scattergeo"
           }
          ],
          "scattergl": [
           {
            "marker": {
             "colorbar": {
              "outlinewidth": 0,
              "ticks": ""
             }
            },
            "type": "scattergl"
           }
          ],
          "scattermapbox": [
           {
            "marker": {
             "colorbar": {
              "outlinewidth": 0,
              "ticks": ""
             }
            },
            "type": "scattermapbox"
           }
          ],
          "scatterpolar": [
           {
            "marker": {
             "colorbar": {
              "outlinewidth": 0,
              "ticks": ""
             }
            },
            "type": "scatterpolar"
           }
          ],
          "scatterpolargl": [
           {
            "marker": {
             "colorbar": {
              "outlinewidth": 0,
              "ticks": ""
             }
            },
            "type": "scatterpolargl"
           }
          ],
          "scatterternary": [
           {
            "marker": {
             "colorbar": {
              "outlinewidth": 0,
              "ticks": ""
             }
            },
            "type": "scatterternary"
           }
          ],
          "surface": [
           {
            "colorbar": {
             "outlinewidth": 0,
             "ticks": ""
            },
            "colorscale": [
             [
              0,
              "#0d0887"
             ],
             [
              0.1111111111111111,
              "#46039f"
             ],
             [
              0.2222222222222222,
              "#7201a8"
             ],
             [
              0.3333333333333333,
              "#9c179e"
             ],
             [
              0.4444444444444444,
              "#bd3786"
             ],
             [
              0.5555555555555556,
              "#d8576b"
             ],
             [
              0.6666666666666666,
              "#ed7953"
             ],
             [
              0.7777777777777778,
              "#fb9f3a"
             ],
             [
              0.8888888888888888,
              "#fdca26"
             ],
             [
              1,
              "#f0f921"
             ]
            ],
            "type": "surface"
           }
          ],
          "table": [
           {
            "cells": {
             "fill": {
              "color": "#EBF0F8"
             },
             "line": {
              "color": "white"
             }
            },
            "header": {
             "fill": {
              "color": "#C8D4E3"
             },
             "line": {
              "color": "white"
             }
            },
            "type": "table"
           }
          ]
         },
         "layout": {
          "annotationdefaults": {
           "arrowcolor": "#2a3f5f",
           "arrowhead": 0,
           "arrowwidth": 1
          },
          "autotypenumbers": "strict",
          "coloraxis": {
           "colorbar": {
            "outlinewidth": 0,
            "ticks": ""
           }
          },
          "colorscale": {
           "diverging": [
            [
             0,
             "#8e0152"
            ],
            [
             0.1,
             "#c51b7d"
            ],
            [
             0.2,
             "#de77ae"
            ],
            [
             0.3,
             "#f1b6da"
            ],
            [
             0.4,
             "#fde0ef"
            ],
            [
             0.5,
             "#f7f7f7"
            ],
            [
             0.6,
             "#e6f5d0"
            ],
            [
             0.7,
             "#b8e186"
            ],
            [
             0.8,
             "#7fbc41"
            ],
            [
             0.9,
             "#4d9221"
            ],
            [
             1,
             "#276419"
            ]
           ],
           "sequential": [
            [
             0,
             "#0d0887"
            ],
            [
             0.1111111111111111,
             "#46039f"
            ],
            [
             0.2222222222222222,
             "#7201a8"
            ],
            [
             0.3333333333333333,
             "#9c179e"
            ],
            [
             0.4444444444444444,
             "#bd3786"
            ],
            [
             0.5555555555555556,
             "#d8576b"
            ],
            [
             0.6666666666666666,
             "#ed7953"
            ],
            [
             0.7777777777777778,
             "#fb9f3a"
            ],
            [
             0.8888888888888888,
             "#fdca26"
            ],
            [
             1,
             "#f0f921"
            ]
           ],
           "sequentialminus": [
            [
             0,
             "#0d0887"
            ],
            [
             0.1111111111111111,
             "#46039f"
            ],
            [
             0.2222222222222222,
             "#7201a8"
            ],
            [
             0.3333333333333333,
             "#9c179e"
            ],
            [
             0.4444444444444444,
             "#bd3786"
            ],
            [
             0.5555555555555556,
             "#d8576b"
            ],
            [
             0.6666666666666666,
             "#ed7953"
            ],
            [
             0.7777777777777778,
             "#fb9f3a"
            ],
            [
             0.8888888888888888,
             "#fdca26"
            ],
            [
             1,
             "#f0f921"
            ]
           ]
          },
          "colorway": [
           "#636efa",
           "#EF553B",
           "#00cc96",
           "#ab63fa",
           "#FFA15A",
           "#19d3f3",
           "#FF6692",
           "#B6E880",
           "#FF97FF",
           "#FECB52"
          ],
          "font": {
           "color": "#2a3f5f"
          },
          "geo": {
           "bgcolor": "white",
           "lakecolor": "white",
           "landcolor": "#E5ECF6",
           "showlakes": true,
           "showland": true,
           "subunitcolor": "white"
          },
          "hoverlabel": {
           "align": "left"
          },
          "hovermode": "closest",
          "mapbox": {
           "style": "light"
          },
          "paper_bgcolor": "white",
          "plot_bgcolor": "#E5ECF6",
          "polar": {
           "angularaxis": {
            "gridcolor": "white",
            "linecolor": "white",
            "ticks": ""
           },
           "bgcolor": "#E5ECF6",
           "radialaxis": {
            "gridcolor": "white",
            "linecolor": "white",
            "ticks": ""
           }
          },
          "scene": {
           "xaxis": {
            "backgroundcolor": "#E5ECF6",
            "gridcolor": "white",
            "gridwidth": 2,
            "linecolor": "white",
            "showbackground": true,
            "ticks": "",
            "zerolinecolor": "white"
           },
           "yaxis": {
            "backgroundcolor": "#E5ECF6",
            "gridcolor": "white",
            "gridwidth": 2,
            "linecolor": "white",
            "showbackground": true,
            "ticks": "",
            "zerolinecolor": "white"
           },
           "zaxis": {
            "backgroundcolor": "#E5ECF6",
            "gridcolor": "white",
            "gridwidth": 2,
            "linecolor": "white",
            "showbackground": true,
            "ticks": "",
            "zerolinecolor": "white"
           }
          },
          "shapedefaults": {
           "line": {
            "color": "#2a3f5f"
           }
          },
          "ternary": {
           "aaxis": {
            "gridcolor": "white",
            "linecolor": "white",
            "ticks": ""
           },
           "baxis": {
            "gridcolor": "white",
            "linecolor": "white",
            "ticks": ""
           },
           "bgcolor": "#E5ECF6",
           "caxis": {
            "gridcolor": "white",
            "linecolor": "white",
            "ticks": ""
           }
          },
          "title": {
           "x": 0.05
          },
          "xaxis": {
           "automargin": true,
           "gridcolor": "white",
           "linecolor": "white",
           "ticks": "",
           "title": {
            "standoff": 15
           },
           "zerolinecolor": "white",
           "zerolinewidth": 2
          },
          "yaxis": {
           "automargin": true,
           "gridcolor": "white",
           "linecolor": "white",
           "ticks": "",
           "title": {
            "standoff": 15
           },
           "zerolinecolor": "white",
           "zerolinewidth": 2
          }
         }
        }
       }
      }
     },
     "metadata": {},
     "output_type": "display_data"
    }
   ],
   "source": [
    "# Cantidad de coches por fabricante\n",
    "\n",
    "df_1 = pd.DataFrame(list(fabricantes_count.items()), columns = [\"Fabricante\", \"Recuento\"])\n",
    "\n",
    "fig = px.sunburst(data_frame = df_1,\n",
    "                  \n",
    "                  values     = \"Recuento\",\n",
    "\n",
    "                  path       = [\"Fabricante\", \"Recuento\"],\n",
    "\n",
    "                  hover_name = \"Fabricante\",\n",
    "\n",
    "                  color      = \"Fabricante\")\n",
    "\n",
    "fig.update_traces(textinfo = \"label + percent parent\")\n",
    "\n",
    "fig\n"
   ]
  }
 ],
 "metadata": {
  "kernelspec": {
   "display_name": "Python 3",
   "language": "python",
   "name": "python3"
  },
  "language_info": {
   "codemirror_mode": {
    "name": "ipython",
    "version": 3
   },
   "file_extension": ".py",
   "mimetype": "text/x-python",
   "name": "python",
   "nbconvert_exporter": "python",
   "pygments_lexer": "ipython3",
   "version": "3.11.8"
  }
 },
 "nbformat": 4,
 "nbformat_minor": 2
}
